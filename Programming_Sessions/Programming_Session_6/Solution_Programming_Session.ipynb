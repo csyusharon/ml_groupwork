{
  "cells": [
    {
      "cell_type": "markdown",
      "metadata": {
        "id": "view-in-github",
        "colab_type": "text"
      },
      "source": [
        "<a href=\"https://colab.research.google.com/github/csyusharon/ml_groupwork/blob/main/Programming_Sessions/Programming_Session_6/Solution_Programming_Session.ipynb\" target=\"_parent\"><img src=\"https://colab.research.google.com/assets/colab-badge.svg\" alt=\"Open In Colab\"/></a>"
      ]
    },
    {
      "cell_type": "markdown",
      "metadata": {
        "id": "A84sSMXE3hbZ"
      },
      "source": [
        "\n",
        "# **<center>Machine Learning and Finance </center>**\n",
        "\n",
        "\n",
        "## <center> Programming Session 7 - LSTM Based Classification Model Solution </center>\n",
        "\n"
      ]
    },
    {
      "cell_type": "markdown",
      "metadata": {
        "id": "48GJETGg1Aow"
      },
      "source": [
        "# LSTM Based Classificaiton Model\n",
        "\n",
        "## Introduction\n",
        "In this programming session, we are focusing on building an LSTM (Long Short-Term Memory) model aimed at the classification of news articles.\n",
        "\n",
        "## Challenge\n",
        "The core challenge is to develop a model capable of categorizing news texts into five predefined categories: tech, business, sport, entertainment, and politics.\n",
        "\n",
        "## DataSet Overview\n",
        "We are utilizing the BBC news articles (Source: [here](http://mlg.ucd.ie/files/publications/greene06icml.pdf)) dataset for this task. It comprises texts each labeled under one of the five categories mentioned.\n",
        "\n",
        "## Objective\n",
        "Our goal is to create and refine an LSTM-based machine learning model that efficiently classifies news articles into their respective categories based on their textual content."
      ]
    },
    {
      "cell_type": "code",
      "execution_count": null,
      "metadata": {
        "id": "kCcWOvm03Zxu"
      },
      "outputs": [],
      "source": [
        "# Import basic libraries\n",
        "import matplotlib.pyplot as plt # for plotting\n",
        "import numpy as np # for manipulating arrays\n",
        "import tensorflow as tf # for creating Neural Networks, we will use it to load data\n",
        "import os\n",
        "import pandas as pd\n",
        "plt.style.use('dark_background') # to adapt the colors to a dark background\n",
        "from IPython.display import Image # for showing graphs from the lectures"
      ]
    },
    {
      "cell_type": "markdown",
      "metadata": {
        "id": "ZEg4IWrPY6QE"
      },
      "source": [
        "# 1. Preprocessing the Data"
      ]
    },
    {
      "cell_type": "markdown",
      "metadata": {
        "id": "-5QXO_b895mj"
      },
      "source": [
        "The goal of this part is to prepare our dataset into a format suitable for training by transforming it into a `(N, T)` tensor where:\n",
        "\n",
        "- `N` represents the number of samples in our dataset.\n",
        "- `T` denotes the uniform length of each sequence within the dataset.\n",
        "\n",
        "### Preprocessing Steps\n",
        "\n",
        "1. **Determine Sequence Length (`T`):** Select a fixed sequence length `T`, which serves as another hyperparameter in our model preparation.\n",
        "\n",
        "2. **Sequence Adjustment:**\n",
        "    - **Padding:** For sequences shorter than `T`, pad them with zeros to match the desired length.\n",
        "    - **Truncation:** For sequences exceeding the length `T`, truncate them to maintain uniformity.\n"
      ]
    },
    {
      "cell_type": "markdown",
      "metadata": {
        "id": "gpxrWwnA0Pam"
      },
      "source": [
        "<center><img width=“700\" src = \"https://drive.google.com/uc?export=view&id=1GLwOZWrMiprZpN8jijTkLO_GVpgmi9MM\"></center>"
      ]
    },
    {
      "cell_type": "markdown",
      "metadata": {
        "id": "2rsm8LyYB7UF"
      },
      "source": [
        "You can find the data in the following in github. The csv file is named `bbc-text.csv`\n",
        "\n",
        "You will find the following columns:\n",
        "\n",
        "* `text` contains the news.\n",
        "\n",
        "* `category` is an element of the following categories:\n",
        "  * tech\n",
        "  * business\n",
        "  * sport\n",
        "  * entertainment\n",
        "  * politics\n",
        "\n",
        "\n"
      ]
    },
    {
      "cell_type": "markdown",
      "metadata": {
        "id": "d3uVYHqpwNLt"
      },
      "source": [
        "---\n",
        "<font color=green>Q1:</font>\n",
        "<br><font color='green'>\n",
        "Load the dataframe and call the dataframe `df` and store the elements in the column `text` in a list called `texts`\n",
        "</font>\n",
        "\n",
        "---"
      ]
    },
    {
      "cell_type": "code",
      "execution_count": null,
      "metadata": {
        "id": "qg0YioxaZnPJ"
      },
      "outputs": [],
      "source": [
        "\n",
        "# Load the dataframe\n",
        "# Load the dataframe\n",
        "df = pd.read_csv('https://raw.githubusercontent.com/Jandsy/ml_finance_imperial/refs/heads/main/Programming_Sessions/Programming_Session_6/bbc-text.csv')"
      ]
    },
    {
      "cell_type": "code",
      "execution_count": null,
      "metadata": {
        "colab": {
          "base_uri": "https://localhost:8080/",
          "height": 363
        },
        "id": "vxnsK_D2yi2T",
        "outputId": "b6c2e591-4fe5-4380-e214-b140bfd701b6"
      },
      "outputs": [
        {
          "data": {
            "application/vnd.google.colaboratory.intrinsic+json": {
              "summary": "{\n  \"name\": \"df\",\n  \"rows\": 2225,\n  \"fields\": [\n    {\n      \"column\": \"category\",\n      \"properties\": {\n        \"dtype\": \"category\",\n        \"num_unique_values\": 5,\n        \"samples\": [\n          \"business\",\n          \"politics\",\n          \"sport\"\n        ],\n        \"semantic_type\": \"\",\n        \"description\": \"\"\n      }\n    },\n    {\n      \"column\": \"text\",\n      \"properties\": {\n        \"dtype\": \"string\",\n        \"num_unique_values\": 2126,\n        \"samples\": [\n          \"plan to give elderly care control elderly and disabled people would choose how their own budget for personal care was spent and organised under government plans.  ministers say elderly and disabled people themselves  not social workers  should be able to decide on their care and stay in their own homes. they also plan a supremo for adult services in each english area to get different agencies working together. but the government shunned opponents  calls for free long-term care.  there are 1.7m people needing care in england and ministers suggest the number could quadruple by 2050. monday s consultation paper on social care for adults in england is aimed at ending a system which generates dependency. health minister stephen ladyman said:  this document is the antithesis of the nanny state.   it s about taking power away from the state and giving it to individuals and saying that we will help you make these decisions but we are not going to make them for you any more.  the government has already allowed local councils to give people money so they can pay for their services directly but take-up of the scheme has been  disappointing .  ministers say the new plans would make direct payments simpler and try to counter reluctance in some local councils to use the payments. they also want to set up a new  half-way house  where social workers tell people how much money is available for their care and help them choose how to spend that  individual budget . the scheme will be funded on existing budgets set until 2008. but mr ladyman said the plans could deliver savings in some areas  such as freeing up nhs beds and preventing illnesses. he ruled out free personal care in england - which is on offer in scotland and wales  saying it was  unsustainable .  david rogers  from the local government association  said agencies were working together on the kind of innovation proposed by the government. and tony hunter  president of the association of directors of social services  said the plans could improve dignity and well-being for thousands of people. but age concern argued social care was chronically under-funded and older people were being offered choice in principle  but not in practice. its director general  gordon lishman  said:  direct payments will not work if there are no services for people to choose from locally.   the tories say people who pay for three years  long-term care directly or through insurance should be guaranteed free care for the rest of their lives. tory spokesman simon burns said more than 80 000 long term care places had been lost since 1997.  after eight years of persistent change  dogmatic enforcement of regulation  and overbearing government initiatives - we need action  not a vision   said mr burns. the lib dems say they would fund free personal care by a new 50% tax rate on incomes over \\u00a3100 000. health spokesman paul burstow said:  promoting independence sounds good and helping people to live in their own homes is a goal we share.  but the risk is that independence can turn into isolation if the right support and care is not available.\",\n          \"beer giant swallows russian firm brewing giant inbev has agreed to buy alfa-eco s stake in sun interbrew  russia s second-largest brewer  for up to 259.7m euros ($353.3m; \\u00a3183.75m).  alfa-eco  the venture capital arm of russian conglomerate alfa group  has a one-fifth stake in sun interbrew. the deal gives inbev  the world s biggest beermaker  near-total control over the russian brewer. inbev bought out another partner in august 2004. inbev brands include bass  stella artois  hoegaarden and staropramen. it employs 77 000 people  running operations in over 30 countries across the americas  europe and asia pacific.  the leuven-based brewery said it would own 97.3% of the voting shares and 98.8% of the non-voting shares of sun interbrew. the deal is expected to be completed in the first quarter of 2005. inbev was formed in august 2004 when belgium s interbrew bought brazilian brewer ambev. sun interbrew  which employs 8 000 staff  owns breweries in eight russian cities - klin  ivanovo  saransk  kursk  volzhsky  omsk  perm and novocheboksarsk. there are also three breweries in ukraine  in the cities of chernigov  nikolaev and kharkov.\",\n          \"athens memories soar above lows well  it s goodbye to another olympic year and as usual there were plenty of highs and lows in athens.  obviously  there s no getting away from the differing fortunes of kelly holmes and paula radcliffe. but i want to remind you of a few more events that made 2004 another year to remember - or forget - for athletics.      one of my favourite olympic moments was kelly s success in the 800m.  winning that race was the key to her success because if she won that then the 1500m would be a bit of a formality. kelly had been full of  should i  shouldn t i   thoughts about going for the double in athens. i thought why wouldn t you do the 800m  it s your best event  it was such good fun to commentate on her 1500m and it was nice to be able to be part of her athens story.      the victory for the british men s 4x100m relay team was a bit of a surprise but a great climax to the games. i think the four of them - jason gardener  darren campbell  marlon devonish and mark lewis-francis - knew deep down that it was their best chance of a medal. the lads had run poorly in the individual sprints so maybe they did lift their game when they knew something was really at stake.      hicham el guerrouj s olympic double is a much bigger achievement than kelly s on a global scale.  he was the first man since for 80 years to win both the 1500m and 5 000m titles. as soon as he had added the 5 000m crown and i had finished commentating  i jumped up  ran down the stairs  pushed everyone out the way and just gave him a big hug. he is one of the few african runners who has embraced the tradition of the mile and he loves to hear all the roger bannister stories. hicham is someone i enjoy having a bit of time with  even though my french and his english are not very good.      what happened to paula in athens this year is the obvious low on a personal level and for the expectations of the nation as well. there were a set of circumstances around athens that conspired to produce a very dramatic ending which i think has been greatly misunderstood. dropping out of the marathon was the right thing to do but starting in the 10 000m five days later was not wise. that was her heart and not her head reacting. paula had a lot of little things going wrong in her preparation and on the day.  things like niggling injuries  not being able to do all her running sessions and feeling the pressure of the race looming ahead of her. i think she came to the start line in athens physically and emotionally drained. and if even the smallest thing doesn t feel right when you are preparing to race a marathon  10 miles down the road it will hit you like a brick wall. the positive thing to take from paula s olympics it that she will have learned a lot from it and so will a lot of people - including me.      purely as a race  paula s victory in the new york marathon has to go down as one of the most thrilling. it was so nip-and-tuck between her and kenya s susan chepkemei and you don t usually get that kind of excitement in marathons. it was also a real delight for all athletics fans because  to use one of my favourite words  paula showed real  bouncebackability . and it was a bit of a rarity for me too because i genuinely did not have an inkling how the race was going to pan out.      kelly and the 4x100m boys  victories papered over the cracks in the general performance of the british team. we should be concerned that we re not producing enough people who are capable of reaching finals at senior level.  the only individual men s finalist on the track was michael east in the 1500m. i am beginning to look down and wonder where are the new breed  and that s where things begin to look even gloomier for british athletics as we did not win any medals at the world junior championships in italy. dani barnes came fourth in the 1500m and she was the highest finisher for team gb. the thing is if we don t have athletes getting into the finals at junior level then it really doesn t look good for the beijing olympics and beyond.      i tell you what i really enjoyed this year  benita johnson winning the world cross country championships back in march. in the absence of paula  we tend to think of the event as something of an african preserve. so to have an australian come up and deliver such a surprise was something special.      to be honest  i m getting bored with all the drug scandals  especially balco. i just wish the whole thing would come to a head so we can move on.  having said that  i m always pleased when drugs cheats are caught because it shows the sport is standing up to it and not turning a blind eye anymore. and one of the positive things to come out of balco is people are starting to blow the whistle. we need more people to come forward and help the authorities kick out the cheats. as regards the case against greek sprinters kostas kenteris and katerina thanou  well suspicions have been hanging over kenteris for a while. the bottom line is we cannot keep letting drugs damage the sport because if we do then it stops everyone enjoying it.\"\n        ],\n        \"semantic_type\": \"\",\n        \"description\": \"\"\n      }\n    }\n  ]\n}",
              "type": "dataframe",
              "variable_name": "df"
            },
            "text/html": [
              "\n",
              "  <div id=\"df-dfe3f2bb-0905-41f0-af7a-e8ca119e77da\" class=\"colab-df-container\">\n",
              "    <div>\n",
              "<style scoped>\n",
              "    .dataframe tbody tr th:only-of-type {\n",
              "        vertical-align: middle;\n",
              "    }\n",
              "\n",
              "    .dataframe tbody tr th {\n",
              "        vertical-align: top;\n",
              "    }\n",
              "\n",
              "    .dataframe thead th {\n",
              "        text-align: right;\n",
              "    }\n",
              "</style>\n",
              "<table border=\"1\" class=\"dataframe\">\n",
              "  <thead>\n",
              "    <tr style=\"text-align: right;\">\n",
              "      <th></th>\n",
              "      <th>category</th>\n",
              "      <th>text</th>\n",
              "    </tr>\n",
              "  </thead>\n",
              "  <tbody>\n",
              "    <tr>\n",
              "      <th>0</th>\n",
              "      <td>tech</td>\n",
              "      <td>tv future in the hands of viewers with home th...</td>\n",
              "    </tr>\n",
              "    <tr>\n",
              "      <th>1</th>\n",
              "      <td>business</td>\n",
              "      <td>worldcom boss  left books alone  former worldc...</td>\n",
              "    </tr>\n",
              "    <tr>\n",
              "      <th>2</th>\n",
              "      <td>sport</td>\n",
              "      <td>tigers wary of farrell  gamble  leicester say ...</td>\n",
              "    </tr>\n",
              "    <tr>\n",
              "      <th>3</th>\n",
              "      <td>sport</td>\n",
              "      <td>yeading face newcastle in fa cup premiership s...</td>\n",
              "    </tr>\n",
              "    <tr>\n",
              "      <th>4</th>\n",
              "      <td>entertainment</td>\n",
              "      <td>ocean s twelve raids box office ocean s twelve...</td>\n",
              "    </tr>\n",
              "    <tr>\n",
              "      <th>5</th>\n",
              "      <td>politics</td>\n",
              "      <td>howard hits back at mongrel jibe michael howar...</td>\n",
              "    </tr>\n",
              "    <tr>\n",
              "      <th>6</th>\n",
              "      <td>politics</td>\n",
              "      <td>blair prepares to name poll date tony blair is...</td>\n",
              "    </tr>\n",
              "    <tr>\n",
              "      <th>7</th>\n",
              "      <td>sport</td>\n",
              "      <td>henman hopes ended in dubai third seed tim hen...</td>\n",
              "    </tr>\n",
              "    <tr>\n",
              "      <th>8</th>\n",
              "      <td>sport</td>\n",
              "      <td>wilkinson fit to face edinburgh england captai...</td>\n",
              "    </tr>\n",
              "    <tr>\n",
              "      <th>9</th>\n",
              "      <td>entertainment</td>\n",
              "      <td>last star wars  not for children  the sixth an...</td>\n",
              "    </tr>\n",
              "  </tbody>\n",
              "</table>\n",
              "</div>\n",
              "    <div class=\"colab-df-buttons\">\n",
              "\n",
              "  <div class=\"colab-df-container\">\n",
              "    <button class=\"colab-df-convert\" onclick=\"convertToInteractive('df-dfe3f2bb-0905-41f0-af7a-e8ca119e77da')\"\n",
              "            title=\"Convert this dataframe to an interactive table.\"\n",
              "            style=\"display:none;\">\n",
              "\n",
              "  <svg xmlns=\"http://www.w3.org/2000/svg\" height=\"24px\" viewBox=\"0 -960 960 960\">\n",
              "    <path d=\"M120-120v-720h720v720H120Zm60-500h600v-160H180v160Zm220 220h160v-160H400v160Zm0 220h160v-160H400v160ZM180-400h160v-160H180v160Zm440 0h160v-160H620v160ZM180-180h160v-160H180v160Zm440 0h160v-160H620v160Z\"/>\n",
              "  </svg>\n",
              "    </button>\n",
              "\n",
              "  <style>\n",
              "    .colab-df-container {\n",
              "      display:flex;\n",
              "      gap: 12px;\n",
              "    }\n",
              "\n",
              "    .colab-df-convert {\n",
              "      background-color: #E8F0FE;\n",
              "      border: none;\n",
              "      border-radius: 50%;\n",
              "      cursor: pointer;\n",
              "      display: none;\n",
              "      fill: #1967D2;\n",
              "      height: 32px;\n",
              "      padding: 0 0 0 0;\n",
              "      width: 32px;\n",
              "    }\n",
              "\n",
              "    .colab-df-convert:hover {\n",
              "      background-color: #E2EBFA;\n",
              "      box-shadow: 0px 1px 2px rgba(60, 64, 67, 0.3), 0px 1px 3px 1px rgba(60, 64, 67, 0.15);\n",
              "      fill: #174EA6;\n",
              "    }\n",
              "\n",
              "    .colab-df-buttons div {\n",
              "      margin-bottom: 4px;\n",
              "    }\n",
              "\n",
              "    [theme=dark] .colab-df-convert {\n",
              "      background-color: #3B4455;\n",
              "      fill: #D2E3FC;\n",
              "    }\n",
              "\n",
              "    [theme=dark] .colab-df-convert:hover {\n",
              "      background-color: #434B5C;\n",
              "      box-shadow: 0px 1px 3px 1px rgba(0, 0, 0, 0.15);\n",
              "      filter: drop-shadow(0px 1px 2px rgba(0, 0, 0, 0.3));\n",
              "      fill: #FFFFFF;\n",
              "    }\n",
              "  </style>\n",
              "\n",
              "    <script>\n",
              "      const buttonEl =\n",
              "        document.querySelector('#df-dfe3f2bb-0905-41f0-af7a-e8ca119e77da button.colab-df-convert');\n",
              "      buttonEl.style.display =\n",
              "        google.colab.kernel.accessAllowed ? 'block' : 'none';\n",
              "\n",
              "      async function convertToInteractive(key) {\n",
              "        const element = document.querySelector('#df-dfe3f2bb-0905-41f0-af7a-e8ca119e77da');\n",
              "        const dataTable =\n",
              "          await google.colab.kernel.invokeFunction('convertToInteractive',\n",
              "                                                    [key], {});\n",
              "        if (!dataTable) return;\n",
              "\n",
              "        const docLinkHtml = 'Like what you see? Visit the ' +\n",
              "          '<a target=\"_blank\" href=https://colab.research.google.com/notebooks/data_table.ipynb>data table notebook</a>'\n",
              "          + ' to learn more about interactive tables.';\n",
              "        element.innerHTML = '';\n",
              "        dataTable['output_type'] = 'display_data';\n",
              "        await google.colab.output.renderOutput(dataTable, element);\n",
              "        const docLink = document.createElement('div');\n",
              "        docLink.innerHTML = docLinkHtml;\n",
              "        element.appendChild(docLink);\n",
              "      }\n",
              "    </script>\n",
              "  </div>\n",
              "\n",
              "\n",
              "<div id=\"df-c4dedd8d-554f-48e3-9ee7-fd48e86a9916\">\n",
              "  <button class=\"colab-df-quickchart\" onclick=\"quickchart('df-c4dedd8d-554f-48e3-9ee7-fd48e86a9916')\"\n",
              "            title=\"Suggest charts\"\n",
              "            style=\"display:none;\">\n",
              "\n",
              "<svg xmlns=\"http://www.w3.org/2000/svg\" height=\"24px\"viewBox=\"0 0 24 24\"\n",
              "     width=\"24px\">\n",
              "    <g>\n",
              "        <path d=\"M19 3H5c-1.1 0-2 .9-2 2v14c0 1.1.9 2 2 2h14c1.1 0 2-.9 2-2V5c0-1.1-.9-2-2-2zM9 17H7v-7h2v7zm4 0h-2V7h2v10zm4 0h-2v-4h2v4z\"/>\n",
              "    </g>\n",
              "</svg>\n",
              "  </button>\n",
              "\n",
              "<style>\n",
              "  .colab-df-quickchart {\n",
              "      --bg-color: #E8F0FE;\n",
              "      --fill-color: #1967D2;\n",
              "      --hover-bg-color: #E2EBFA;\n",
              "      --hover-fill-color: #174EA6;\n",
              "      --disabled-fill-color: #AAA;\n",
              "      --disabled-bg-color: #DDD;\n",
              "  }\n",
              "\n",
              "  [theme=dark] .colab-df-quickchart {\n",
              "      --bg-color: #3B4455;\n",
              "      --fill-color: #D2E3FC;\n",
              "      --hover-bg-color: #434B5C;\n",
              "      --hover-fill-color: #FFFFFF;\n",
              "      --disabled-bg-color: #3B4455;\n",
              "      --disabled-fill-color: #666;\n",
              "  }\n",
              "\n",
              "  .colab-df-quickchart {\n",
              "    background-color: var(--bg-color);\n",
              "    border: none;\n",
              "    border-radius: 50%;\n",
              "    cursor: pointer;\n",
              "    display: none;\n",
              "    fill: var(--fill-color);\n",
              "    height: 32px;\n",
              "    padding: 0;\n",
              "    width: 32px;\n",
              "  }\n",
              "\n",
              "  .colab-df-quickchart:hover {\n",
              "    background-color: var(--hover-bg-color);\n",
              "    box-shadow: 0 1px 2px rgba(60, 64, 67, 0.3), 0 1px 3px 1px rgba(60, 64, 67, 0.15);\n",
              "    fill: var(--button-hover-fill-color);\n",
              "  }\n",
              "\n",
              "  .colab-df-quickchart-complete:disabled,\n",
              "  .colab-df-quickchart-complete:disabled:hover {\n",
              "    background-color: var(--disabled-bg-color);\n",
              "    fill: var(--disabled-fill-color);\n",
              "    box-shadow: none;\n",
              "  }\n",
              "\n",
              "  .colab-df-spinner {\n",
              "    border: 2px solid var(--fill-color);\n",
              "    border-color: transparent;\n",
              "    border-bottom-color: var(--fill-color);\n",
              "    animation:\n",
              "      spin 1s steps(1) infinite;\n",
              "  }\n",
              "\n",
              "  @keyframes spin {\n",
              "    0% {\n",
              "      border-color: transparent;\n",
              "      border-bottom-color: var(--fill-color);\n",
              "      border-left-color: var(--fill-color);\n",
              "    }\n",
              "    20% {\n",
              "      border-color: transparent;\n",
              "      border-left-color: var(--fill-color);\n",
              "      border-top-color: var(--fill-color);\n",
              "    }\n",
              "    30% {\n",
              "      border-color: transparent;\n",
              "      border-left-color: var(--fill-color);\n",
              "      border-top-color: var(--fill-color);\n",
              "      border-right-color: var(--fill-color);\n",
              "    }\n",
              "    40% {\n",
              "      border-color: transparent;\n",
              "      border-right-color: var(--fill-color);\n",
              "      border-top-color: var(--fill-color);\n",
              "    }\n",
              "    60% {\n",
              "      border-color: transparent;\n",
              "      border-right-color: var(--fill-color);\n",
              "    }\n",
              "    80% {\n",
              "      border-color: transparent;\n",
              "      border-right-color: var(--fill-color);\n",
              "      border-bottom-color: var(--fill-color);\n",
              "    }\n",
              "    90% {\n",
              "      border-color: transparent;\n",
              "      border-bottom-color: var(--fill-color);\n",
              "    }\n",
              "  }\n",
              "</style>\n",
              "\n",
              "  <script>\n",
              "    async function quickchart(key) {\n",
              "      const quickchartButtonEl =\n",
              "        document.querySelector('#' + key + ' button');\n",
              "      quickchartButtonEl.disabled = true;  // To prevent multiple clicks.\n",
              "      quickchartButtonEl.classList.add('colab-df-spinner');\n",
              "      try {\n",
              "        const charts = await google.colab.kernel.invokeFunction(\n",
              "            'suggestCharts', [key], {});\n",
              "      } catch (error) {\n",
              "        console.error('Error during call to suggestCharts:', error);\n",
              "      }\n",
              "      quickchartButtonEl.classList.remove('colab-df-spinner');\n",
              "      quickchartButtonEl.classList.add('colab-df-quickchart-complete');\n",
              "    }\n",
              "    (() => {\n",
              "      let quickchartButtonEl =\n",
              "        document.querySelector('#df-c4dedd8d-554f-48e3-9ee7-fd48e86a9916 button');\n",
              "      quickchartButtonEl.style.display =\n",
              "        google.colab.kernel.accessAllowed ? 'block' : 'none';\n",
              "    })();\n",
              "  </script>\n",
              "</div>\n",
              "    </div>\n",
              "  </div>\n"
            ],
            "text/plain": [
              "        category                                               text\n",
              "0           tech  tv future in the hands of viewers with home th...\n",
              "1       business  worldcom boss  left books alone  former worldc...\n",
              "2          sport  tigers wary of farrell  gamble  leicester say ...\n",
              "3          sport  yeading face newcastle in fa cup premiership s...\n",
              "4  entertainment  ocean s twelve raids box office ocean s twelve...\n",
              "5       politics  howard hits back at mongrel jibe michael howar...\n",
              "6       politics  blair prepares to name poll date tony blair is...\n",
              "7          sport  henman hopes ended in dubai third seed tim hen...\n",
              "8          sport  wilkinson fit to face edinburgh england captai...\n",
              "9  entertainment  last star wars  not for children  the sixth an..."
            ]
          },
          "execution_count": 3,
          "metadata": {},
          "output_type": "execute_result"
        }
      ],
      "source": [
        "df.head(10)"
      ]
    },
    {
      "cell_type": "markdown",
      "metadata": {
        "id": "iC76bjFlkLWo"
      },
      "source": [
        "The following function is used for cleaning the texts:"
      ]
    },
    {
      "cell_type": "code",
      "execution_count": null,
      "metadata": {
        "colab": {
          "base_uri": "https://localhost:8080/"
        },
        "id": "gmX-QVaPkQsv",
        "outputId": "1198782f-299d-4553-c8b0-7f492411cb73"
      },
      "outputs": [
        {
          "output_type": "stream",
          "name": "stderr",
          "text": [
            "[nltk_data] Downloading package stopwords to /root/nltk_data...\n",
            "[nltk_data]   Unzipping corpora/stopwords.zip.\n"
          ]
        }
      ],
      "source": [
        "import nltk\n",
        "nltk.download(\"stopwords\")\n",
        "from nltk.corpus import stopwords"
      ]
    },
    {
      "cell_type": "code",
      "execution_count": null,
      "metadata": {
        "id": "NAFqtR2GkU0j"
      },
      "outputs": [],
      "source": [
        "def clean(texts):\n",
        "  clean_texts = []\n",
        "  for sequence in texts:\n",
        "    # Get the tokens\n",
        "    words = sequence.split()\n",
        "    # Keep only the words\n",
        "    alphabetic_only = [word for word in words if word.isalpha()]\n",
        "    # All tokens should be written in lowercase\n",
        "    lower_case_only = [word.lower() for word in alphabetic_only]\n",
        "    # Select the stop words from nltk\n",
        "    stopwords_nltk = set(stopwords.words('english'))\n",
        "    # Delete the stop words\n",
        "    cleaned_words = [word for word in lower_case_only if word not in stopwords_nltk]\n",
        "    # Transform the list of tokens into a long string\n",
        "    clean_sequence = ' '.join(cleaned_words)\n",
        "    # Save the result in the list clean_texts\n",
        "    clean_texts.append(clean_sequence)\n",
        "  return clean_texts"
      ]
    },
    {
      "cell_type": "markdown",
      "metadata": {
        "id": "2tX1sA-PwPn_"
      },
      "source": [
        "---\n",
        "<font color=green>Q2:</font>\n",
        "<br><font color='green'>\n",
        "Modify the `text` column by applying the `clean()` function on its contents. After processing, the updated texts should be stored back in the same `text` column.\n",
        "</font>\n",
        "\n",
        "---"
      ]
    },
    {
      "cell_type": "code",
      "execution_count": null,
      "metadata": {
        "id": "DX0UInGud09L"
      },
      "outputs": [],
      "source": [
        "df[\"text\"] = clean(df.text.values)"
      ]
    },
    {
      "cell_type": "markdown",
      "metadata": {
        "id": "KvzCHvv4wQi4"
      },
      "source": [
        "---\n",
        "<font color=green>Q3:</font>\n",
        "<br><font color='green'>\n",
        "In the dataframe `df`, update the `category` column by substituting the existing category names with their corresponding indices from the provided table.\n",
        "</font>\n",
        "\n",
        "---"
      ]
    },
    {
      "cell_type": "markdown",
      "metadata": {
        "id": "brAM29LAlx3u"
      },
      "source": [
        "\n",
        "\n",
        "\n",
        "| **category**  | **index** |\n",
        "|---------------|-----------|\n",
        "| tech          | 0         |\n",
        "| business      | 1         |\n",
        "| sport         | 2         |\n",
        "| entertainment | 3         |\n",
        "| politics      | 4         |\n",
        "\n",
        "\n"
      ]
    },
    {
      "cell_type": "code",
      "execution_count": null,
      "metadata": {
        "id": "CHVt1mT1d1FM",
        "colab": {
          "base_uri": "https://localhost:8080/"
        },
        "outputId": "e96a8046-fec5-4b28-b49d-c84abae7359c"
      },
      "outputs": [
        {
          "output_type": "stream",
          "name": "stderr",
          "text": [
            "<ipython-input-7-91a6652abcb2>:1: FutureWarning: A value is trying to be set on a copy of a DataFrame or Series through chained assignment using an inplace method.\n",
            "The behavior will change in pandas 3.0. This inplace method will never work because the intermediate object on which we are setting values always behaves as a copy.\n",
            "\n",
            "For example, when doing 'df[col].method(value, inplace=True)', try using 'df.method({col: value}, inplace=True)' or df[col] = df[col].method(value) instead, to perform the operation inplace on the original object.\n",
            "\n",
            "\n",
            "  df['category'].replace({'tech':0, 'business':1, 'sport':2, 'entertainment':3, 'politics':4},\n",
            "<ipython-input-7-91a6652abcb2>:1: FutureWarning: Downcasting behavior in `replace` is deprecated and will be removed in a future version. To retain the old behavior, explicitly call `result.infer_objects(copy=False)`. To opt-in to the future behavior, set `pd.set_option('future.no_silent_downcasting', True)`\n",
            "  df['category'].replace({'tech':0, 'business':1, 'sport':2, 'entertainment':3, 'politics':4},\n"
          ]
        }
      ],
      "source": [
        "df['category'].replace({'tech':0, 'business':1, 'sport':2, 'entertainment':3, 'politics':4},\n",
        "                       inplace=True)"
      ]
    },
    {
      "cell_type": "code",
      "source": [
        "df.category"
      ],
      "metadata": {
        "colab": {
          "base_uri": "https://localhost:8080/",
          "height": 458
        },
        "id": "5mVTNVhucL0n",
        "outputId": "05387c63-2120-4600-cbb6-a2e1e6301be4"
      },
      "execution_count": null,
      "outputs": [
        {
          "output_type": "execute_result",
          "data": {
            "text/plain": [
              "0       0\n",
              "1       1\n",
              "2       2\n",
              "3       2\n",
              "4       3\n",
              "       ..\n",
              "2220    1\n",
              "2221    4\n",
              "2222    3\n",
              "2223    4\n",
              "2224    2\n",
              "Name: category, Length: 2225, dtype: int64"
            ],
            "text/html": [
              "<div>\n",
              "<style scoped>\n",
              "    .dataframe tbody tr th:only-of-type {\n",
              "        vertical-align: middle;\n",
              "    }\n",
              "\n",
              "    .dataframe tbody tr th {\n",
              "        vertical-align: top;\n",
              "    }\n",
              "\n",
              "    .dataframe thead th {\n",
              "        text-align: right;\n",
              "    }\n",
              "</style>\n",
              "<table border=\"1\" class=\"dataframe\">\n",
              "  <thead>\n",
              "    <tr style=\"text-align: right;\">\n",
              "      <th></th>\n",
              "      <th>category</th>\n",
              "    </tr>\n",
              "  </thead>\n",
              "  <tbody>\n",
              "    <tr>\n",
              "      <th>0</th>\n",
              "      <td>0</td>\n",
              "    </tr>\n",
              "    <tr>\n",
              "      <th>1</th>\n",
              "      <td>1</td>\n",
              "    </tr>\n",
              "    <tr>\n",
              "      <th>2</th>\n",
              "      <td>2</td>\n",
              "    </tr>\n",
              "    <tr>\n",
              "      <th>3</th>\n",
              "      <td>2</td>\n",
              "    </tr>\n",
              "    <tr>\n",
              "      <th>4</th>\n",
              "      <td>3</td>\n",
              "    </tr>\n",
              "    <tr>\n",
              "      <th>...</th>\n",
              "      <td>...</td>\n",
              "    </tr>\n",
              "    <tr>\n",
              "      <th>2220</th>\n",
              "      <td>1</td>\n",
              "    </tr>\n",
              "    <tr>\n",
              "      <th>2221</th>\n",
              "      <td>4</td>\n",
              "    </tr>\n",
              "    <tr>\n",
              "      <th>2222</th>\n",
              "      <td>3</td>\n",
              "    </tr>\n",
              "    <tr>\n",
              "      <th>2223</th>\n",
              "      <td>4</td>\n",
              "    </tr>\n",
              "    <tr>\n",
              "      <th>2224</th>\n",
              "      <td>2</td>\n",
              "    </tr>\n",
              "  </tbody>\n",
              "</table>\n",
              "<p>2225 rows × 1 columns</p>\n",
              "</div><br><label><b>dtype:</b> int64</label>"
            ]
          },
          "metadata": {},
          "execution_count": 8
        }
      ]
    },
    {
      "cell_type": "code",
      "execution_count": null,
      "metadata": {
        "id": "Wt6L2I4amjdj"
      },
      "outputs": [],
      "source": []
    },
    {
      "cell_type": "markdown",
      "metadata": {
        "id": "GqBwq8pLwRIw"
      },
      "source": [
        "---\n",
        "<font color=green>Q4:</font>\n",
        "<br><font color='green'>\n",
        "Define a list, called `labels` containing the targets associated with each text in the column `text`.\n",
        "</font>\n",
        "\n",
        "---"
      ]
    },
    {
      "cell_type": "code",
      "execution_count": null,
      "metadata": {
        "id": "LhwfH0mHxF3L"
      },
      "outputs": [],
      "source": [
        "labels = df[\"category\"].values"
      ]
    },
    {
      "cell_type": "markdown",
      "metadata": {
        "id": "xnXoC-CIwSYL"
      },
      "source": [
        "---\n",
        "<font color=green>Q5:</font>\n",
        "<br><font color='green'>\n",
        "Preprocess the texts in the column `text` and transform them into sequences of integers:\n",
        "\n",
        "* Use `Tokenizer` from `tensorflow.keras.preprocessing.text` to create and fit a Tokenizer with the vocabulary size.\n",
        "* Create your word_index dictionary and print the number of unique tokens found.\n",
        "* Convert texts to sequences of integers.\n",
        "</font>\n",
        "\n",
        "---"
      ]
    },
    {
      "cell_type": "code",
      "execution_count": null,
      "metadata": {
        "id": "MGurWneC1E6n"
      },
      "outputs": [],
      "source": [
        "# Import Modules\n",
        "from tensorflow.keras.preprocessing.text import Tokenizer"
      ]
    },
    {
      "cell_type": "code",
      "execution_count": null,
      "metadata": {
        "colab": {
          "base_uri": "https://localhost:8080/"
        },
        "id": "RFhFjOw0d1jb",
        "outputId": "5b215935-5d12-49e9-e19d-606ccaeea64d"
      },
      "outputs": [
        {
          "output_type": "stream",
          "name": "stdout",
          "text": [
            "Found 26149 unique tokens.\n"
          ]
        }
      ],
      "source": [
        "# Set Hyperparameters: Vocabulary size\n",
        "V = 10000\n",
        "\n",
        "# Import Modules\n",
        "from tensorflow.keras.preprocessing.text import Tokenizer\n",
        "\n",
        "texts = df[\"text\"].values\n",
        "\n",
        "# Create the Tokenizer\n",
        "tokenizer = Tokenizer(num_words=V) # Filter some elements + oov_token (TO DO)\n",
        "\n",
        "# Fit the tokenizer on the texts to create the word_index dictionary\n",
        "tokenizer.fit_on_texts(texts)\n",
        "word_index = tokenizer.word_index\n",
        "print('Found %s unique tokens.' % len(word_index))\n",
        "\n",
        "\n",
        "# From texts to sequences of integers\n",
        "sequences = tokenizer.texts_to_sequences(texts)"
      ]
    },
    {
      "cell_type": "markdown",
      "metadata": {
        "id": "29Z5JwuLwTWp"
      },
      "source": [
        "---\n",
        "<font color=green>Q6:</font>\n",
        "<br><font color='green'>\n",
        "Utilize `pad_sequences` from `tensorflow.keras.preprocessing.sequence` to convert the list of sequences into an $(N, T)$ tensor, which should be named `data`. (Here, set `T` to 300.)\n",
        "</font>\n",
        "\n",
        "---"
      ]
    },
    {
      "cell_type": "code",
      "execution_count": null,
      "metadata": {
        "id": "mbMVimDId1mH"
      },
      "outputs": [],
      "source": [
        "# Set hyperparameters\n",
        "T = 300\n",
        "\n",
        "# Import Module\n",
        "from tensorflow.keras.preprocessing.sequence import pad_sequences\n",
        "data = pad_sequences(sequences, maxlen= T)"
      ]
    },
    {
      "cell_type": "markdown",
      "metadata": {
        "id": "NpPFZu9_wUPQ"
      },
      "source": [
        "---\n",
        "<font color=green>Q7:</font>\n",
        "<br><font color='green'>\n",
        "Randomize the rows of the $(N, T)$ tensor `data`. Next, divide the data into two parts: 80% for training and 20% for testing. Lastly, apply one-hot encoding to the targets, converting them into $(N_1, K)$ and $(N_2, K)$ tensors, where $N_1$ and $N_2$ represent the sizes of the training and test datasets, respectively, and $K$ stands for the total number of unique categories.\n",
        "\n",
        "</font>\n",
        "\n",
        "---"
      ]
    },
    {
      "cell_type": "code",
      "source": [
        "data.shape"
      ],
      "metadata": {
        "colab": {
          "base_uri": "https://localhost:8080/"
        },
        "id": "8gMBhQlfdaz3",
        "outputId": "31388c85-ca52-4c2a-bab5-c855e23db799"
      },
      "execution_count": null,
      "outputs": [
        {
          "output_type": "execute_result",
          "data": {
            "text/plain": [
              "(2225, 300)"
            ]
          },
          "metadata": {},
          "execution_count": 17
        }
      ]
    },
    {
      "cell_type": "code",
      "source": [
        "index = list(range(data.shape[0]))\n",
        "import random\n",
        "\n",
        "random.shuffle(index)"
      ],
      "metadata": {
        "id": "6fSSQKqhdevs"
      },
      "execution_count": null,
      "outputs": []
    },
    {
      "cell_type": "code",
      "source": [
        "X_train = data[index[:int(0.8*len(index))]]"
      ],
      "metadata": {
        "id": "d6qj-bGbdtyZ"
      },
      "execution_count": null,
      "outputs": []
    },
    {
      "cell_type": "code",
      "source": [
        "y_train = labels[index[:int(0.8*len(index))]]"
      ],
      "metadata": {
        "id": "b-NbtJkpeMHR"
      },
      "execution_count": null,
      "outputs": []
    },
    {
      "cell_type": "code",
      "execution_count": null,
      "metadata": {
        "colab": {
          "base_uri": "https://localhost:8080/"
        },
        "id": "MJntu77bd1x7",
        "outputId": "4e84c545-eea0-42fa-fada-12d3c30ffda4"
      },
      "outputs": [
        {
          "output_type": "stream",
          "name": "stdout",
          "text": [
            "Shape of data tensor: (2225, 300)\n"
          ]
        }
      ],
      "source": [
        "# Shuffle indices\n",
        "indices = np.arange(len(data))\n",
        "np.random.shuffle(indices)\n",
        "\n",
        "# New data\n",
        "data = data[indices]\n",
        "\n",
        "# New labels\n",
        "labels = labels[indices]\n",
        "print('Shape of data tensor:', data.shape)\n",
        "\n",
        "\n",
        "# Split\n",
        "split = int(.8 * len(texts))\n",
        "train_data = data[:split]\n",
        "train_labels = labels[:split]\n",
        "\n",
        "test_data = data[split:]\n",
        "test_labels = labels[split:]"
      ]
    },
    {
      "cell_type": "code",
      "execution_count": null,
      "metadata": {
        "id": "xW586vCxsUl2"
      },
      "outputs": [],
      "source": [
        "# One hot encoding applied to the targets\n",
        "from tensorflow.keras.utils import to_categorical\n",
        "\n",
        "\n",
        "train_labels = to_categorical(train_labels, num_classes=5)\n",
        "test_labels = to_categorical(test_labels, num_classes=5)\n"
      ]
    },
    {
      "cell_type": "markdown",
      "metadata": {
        "id": "2eA3qWg0I1Zg"
      },
      "source": [
        "# 2. Creating the Embedding Matrix"
      ]
    },
    {
      "cell_type": "markdown",
      "metadata": {
        "id": "ZWCqXdikD4IZ"
      },
      "source": [
        "## 2.1 Creating the Embedding index dictionary"
      ]
    },
    {
      "cell_type": "markdown",
      "metadata": {
        "id": "X-Bt1nNrRFGa"
      },
      "source": [
        "In this part, our aim is to utilize a pretrained embedding matrix.\n",
        "\n",
        "During the course, we discussed the **Word2vec** technique.\n",
        "\n",
        "For this session, we'll be implementing the **Glove** pretrained vectors.\n",
        "\n",
        "These vectors are precomputed embeddings for millions of English words, developed based on various corpora, including the Wikipedia dataset.\n",
        "\n",
        "For additional details, refer to the documentation available [here](https://nlp.stanford.edu/projects/glove).\n",
        "\n"
      ]
    },
    {
      "cell_type": "markdown",
      "metadata": {
        "id": "gopxLY8AwXUY"
      },
      "source": [
        "---\n",
        "<font color=green>Q8:</font>\n",
        "<br><font color='green'>\n",
        "Run the following code to download the precomputed embeddings from 2014 English Wikipedia. It’s an 822 MB zip file called glove.6B.zip, containing different D-dimensional embedding vectors for 400,000 words (or nonword tokens). Unzip it and store in the folder named `glove.6B`.\n",
        "</font>\n",
        "\n",
        "---"
      ]
    },
    {
      "cell_type": "code",
      "execution_count": null,
      "metadata": {
        "colab": {
          "base_uri": "https://localhost:8080/"
        },
        "id": "_7xk2hsPtfxP",
        "outputId": "75cd7a15-d3aa-40e8-df46-484eec55082c"
      },
      "outputs": [
        {
          "output_type": "stream",
          "name": "stdout",
          "text": [
            "--2025-05-29 19:16:57--  http://nlp.stanford.edu/data/glove.6B.zip\n",
            "Resolving nlp.stanford.edu (nlp.stanford.edu)... 171.64.67.140\n",
            "Connecting to nlp.stanford.edu (nlp.stanford.edu)|171.64.67.140|:80... connected.\n",
            "HTTP request sent, awaiting response... 302 Found\n",
            "Location: https://nlp.stanford.edu/data/glove.6B.zip [following]\n",
            "--2025-05-29 19:16:57--  https://nlp.stanford.edu/data/glove.6B.zip\n",
            "Connecting to nlp.stanford.edu (nlp.stanford.edu)|171.64.67.140|:443... connected.\n",
            "HTTP request sent, awaiting response... 301 Moved Permanently\n",
            "Location: https://downloads.cs.stanford.edu/nlp/data/glove.6B.zip [following]\n",
            "--2025-05-29 19:16:57--  https://downloads.cs.stanford.edu/nlp/data/glove.6B.zip\n",
            "Resolving downloads.cs.stanford.edu (downloads.cs.stanford.edu)... 171.64.64.22\n",
            "Connecting to downloads.cs.stanford.edu (downloads.cs.stanford.edu)|171.64.64.22|:443... connected.\n",
            "HTTP request sent, awaiting response... 200 OK\n",
            "Length: 862182613 (822M) [application/zip]\n",
            "Saving to: ‘glove.6B.zip’\n",
            "\n",
            "glove.6B.zip        100%[===================>] 822.24M  4.85MB/s    in 2m 53s  \n",
            "\n",
            "2025-05-29 19:19:51 (4.74 MB/s) - ‘glove.6B.zip’ saved [862182613/862182613]\n",
            "\n"
          ]
        }
      ],
      "source": [
        "# Download the zip file\n",
        "!wget http://nlp.stanford.edu/data/glove.6B.zip"
      ]
    },
    {
      "cell_type": "code",
      "execution_count": null,
      "metadata": {
        "colab": {
          "base_uri": "https://localhost:8080/"
        },
        "id": "OTYDAMed3mO8",
        "outputId": "181960c2-1efa-4916-d7b6-d61e31e7f0c3"
      },
      "outputs": [
        {
          "name": "stdout",
          "output_type": "stream",
          "text": [
            "Archive:  glove.6B.zip\n",
            "  inflating: glove.6B/glove.6B.50d.txt  \n",
            "  inflating: glove.6B/glove.6B.100d.txt  \n",
            "  inflating: glove.6B/glove.6B.200d.txt  \n",
            "  inflating: glove.6B/glove.6B.300d.txt  \n"
          ]
        }
      ],
      "source": [
        "# Unzip it and put the files in the destination folder `glove.6B`\n",
        "!unzip glove*.zip -d glove.6B"
      ]
    },
    {
      "cell_type": "markdown",
      "metadata": {
        "id": "IrFsjBQkwYMt"
      },
      "source": [
        "---\n",
        "<font color=green>Q9:</font>\n",
        "<br><font color='green'>\n",
        "Create a dictionary called `embedding_index` that maps each word to a vector of size 200 as shown in the following figure:\n",
        "</font>\n",
        "\n",
        "---"
      ]
    },
    {
      "cell_type": "markdown",
      "metadata": {
        "id": "PbXFogNR0SL4"
      },
      "source": [
        "<center><img width=“1000\" src = \"https://drive.google.com/uc?export=view&id=1fUAxpg7IU-bYQgntkV6YghOCqTVGwSt1\"></center>"
      ]
    },
    {
      "cell_type": "code",
      "execution_count": null,
      "metadata": {
        "id": "g_En0SubCRdQ"
      },
      "outputs": [],
      "source": [
        "# Directory of the Embedding file\n",
        "dir_glove = os.path.join(os.getcwd(),'glove.6B')\n",
        "\n",
        "\n",
        "# Create the dictionary\n",
        "embedding_index = {}\n",
        "\n",
        "f = open(os.path.join(dir_glove, \"glove.6B.200d.txt\"), encoding = \"utf8\")\n",
        "for line in f:\n",
        "    # Split each line\n",
        "    values = line.split()\n",
        "    # Get the word\n",
        "    word = values[0]\n",
        "    # Get the embedding vector\n",
        "    embedding_vector = np.asarray(values[1:], dtype = \"float32\")\n",
        "    # Append the dictionary\n",
        "    embedding_index[word] = embedding_vector"
      ]
    },
    {
      "cell_type": "code",
      "execution_count": null,
      "metadata": {
        "colab": {
          "base_uri": "https://localhost:8080/"
        },
        "id": "lN5PdXn_Q3Nf",
        "outputId": "9401660d-daef-44e2-ee57-96d42f508c87"
      },
      "outputs": [
        {
          "data": {
            "text/plain": [
              "400000"
            ]
          },
          "execution_count": 18,
          "metadata": {},
          "output_type": "execute_result"
        }
      ],
      "source": [
        "len(embedding_index)"
      ]
    },
    {
      "cell_type": "markdown",
      "metadata": {
        "id": "_q38bn4fEfX0"
      },
      "source": [
        "## 2.2. Creating the Embedding matrix"
      ]
    },
    {
      "cell_type": "markdown",
      "metadata": {
        "id": "obJui7BCwako"
      },
      "source": [
        "---\n",
        "<font color=green>Q10:</font>\n",
        "<br><font color='green'>\n",
        "Construct a matrix named `embedding_matrix` with dimensions `(V, D)`, where `D` represents the dimension of the embeddings, and `V` is the size of the vocabulary.\n",
        "\n",
        "- In this matrix, each row `k` should contain the embedding vector corresponding to the word indexed by `k` in the `embedding_index` dictionary.\n",
        "- If a word indexed by `k` does not exist in the `embedding_index` dictionary, it should be represented by a zero vector in the `embedding_matrix`.\n",
        "\n",
        "</font>\n",
        "\n",
        "---"
      ]
    },
    {
      "cell_type": "markdown",
      "metadata": {
        "id": "DSdkBi6F0TqZ"
      },
      "source": [
        "<center><img width=“300\" src = \"https://drive.google.com/uc?export=view&id=1KM1n5qSajHkf4ItxycCddcjq2MhkSS8e\"></center>"
      ]
    },
    {
      "cell_type": "code",
      "execution_count": null,
      "metadata": {
        "id": "CR3q_qyX5PY_"
      },
      "outputs": [],
      "source": [
        "# The embedding dimension\n",
        "D = 200\n",
        "\n",
        "\n",
        "# Initilize the embedding matrix with zeros\n",
        "embedding_matrix = np.zeros((V, D))\n",
        "\n",
        "# Loop through all the elements of the word_index dictionary\n",
        "for word, i in word_index.items():\n",
        "    if i < V:\n",
        "        # Get the embedding vector or None\n",
        "        embedding_vector = embedding_index.get(word)\n",
        "        # Update one row of the embedding matrix\n",
        "        if embedding_vector is not None:\n",
        "            embedding_matrix[i] = embedding_vector\n"
      ]
    },
    {
      "cell_type": "markdown",
      "metadata": {
        "id": "9hwsH3FrK6pF"
      },
      "source": [
        "# 3. Creating the Model"
      ]
    },
    {
      "cell_type": "markdown",
      "metadata": {
        "id": "t8D40WPBK_TH"
      },
      "source": [
        "## 3.1 Using pre-trained word vectors (embedding_matrix) from GloVe"
      ]
    },
    {
      "cell_type": "markdown",
      "metadata": {
        "id": "zS7Z2hcVwbP4"
      },
      "source": [
        "---\n",
        "<font color=green>Q11:</font>\n",
        "<br><font color='green'>\n",
        "Create an embedding layer named `embedding_layer` using `Embedding` from `tensorflow.keras.layers`.\n",
        "\n",
        "- This layer should convert an `(N, T)` tensor of integers into an `(N, T, D)` tensor.\n",
        "- Populate the `embedding_layer` with the `embedding_matrix`.\n",
        "\n",
        "</font>\n",
        "\n",
        "---"
      ]
    },
    {
      "cell_type": "markdown",
      "metadata": {
        "id": "KnxHOmFA0VOs"
      },
      "source": [
        "<center><img width=“700\" src = \"https://drive.google.com/uc?export=view&id=1EdfK87ayAWSEXfr-A60JbXxBuXqd-QL0\"></center>"
      ]
    },
    {
      "cell_type": "code",
      "execution_count": null,
      "metadata": {
        "id": "8n7ZGAvIMAXP"
      },
      "outputs": [],
      "source": [
        "from tensorflow.keras.layers import Embedding\n",
        "\n",
        "embedding_layer = Embedding(\n",
        "  V,\n",
        "  D,\n",
        "  weights=[embedding_matrix],\n",
        "  trainable=False,\n",
        "  name = \"Embedding Layer\"\n",
        ")"
      ]
    },
    {
      "cell_type": "markdown",
      "metadata": {
        "id": "w1VIMWNQwb_i"
      },
      "source": [
        "---\n",
        "<font color=green>Q12:</font>\n",
        "<br><font color='green'>\n",
        "Create the following model:\n",
        "</font>\n",
        "\n",
        "---"
      ]
    },
    {
      "cell_type": "markdown",
      "metadata": {
        "id": "zBWDZJZo0Wgh"
      },
      "source": [
        "<center><img width=“700\" src = \"https://drive.google.com/uc?export=view&id=1ybUjIhriRWlMeTtn2NBiMzPXIQuTRZY3\"></center>"
      ]
    },
    {
      "cell_type": "code",
      "execution_count": null,
      "metadata": {
        "colab": {
          "base_uri": "https://localhost:8080/",
          "height": 211
        },
        "id": "PjCnrR3YWZnu",
        "outputId": "5be4397d-9cf9-4c80-9af5-f019ea56b962"
      },
      "outputs": [
        {
          "output_type": "error",
          "ename": "NameError",
          "evalue": "name 'V' is not defined",
          "traceback": [
            "\u001b[0;31m---------------------------------------------------------------------------\u001b[0m",
            "\u001b[0;31mNameError\u001b[0m                                 Traceback (most recent call last)",
            "\u001b[0;32m<ipython-input-2-babf3c1d33de>\u001b[0m in \u001b[0;36m<cell line: 0>\u001b[0;34m()\u001b[0m\n\u001b[1;32m     10\u001b[0m \u001b[0;34m\u001b[0m\u001b[0m\n\u001b[1;32m     11\u001b[0m embedding = Embedding(\n\u001b[0;32m---> 12\u001b[0;31m   \u001b[0mV\u001b[0m\u001b[0;34m,\u001b[0m\u001b[0;34m\u001b[0m\u001b[0;34m\u001b[0m\u001b[0m\n\u001b[0m\u001b[1;32m     13\u001b[0m   \u001b[0mD\u001b[0m\u001b[0;34m,\u001b[0m\u001b[0;34m\u001b[0m\u001b[0;34m\u001b[0m\u001b[0m\n\u001b[1;32m     14\u001b[0m   \u001b[0mweights\u001b[0m\u001b[0;34m=\u001b[0m\u001b[0;34m[\u001b[0m\u001b[0membedding_matrix\u001b[0m\u001b[0;34m]\u001b[0m\u001b[0;34m,\u001b[0m\u001b[0;34m\u001b[0m\u001b[0;34m\u001b[0m\u001b[0m\n",
            "\u001b[0;31mNameError\u001b[0m: name 'V' is not defined"
          ]
        }
      ],
      "source": [
        "from tensorflow.keras.models import Model\n",
        "from tensorflow.keras.layers import Input, LSTM, Dense, Embedding\n",
        "\n",
        "\n",
        "# Set hyperparameters\n",
        "d_1 = 32 # output dimension of the first LSTM layer\n",
        "d_2 = 32 # output dimension of the second LSTM layer\n",
        "K = 5 # Output dimension of the last layer\n",
        "\n",
        "\n",
        "embedding = Embedding(\n",
        "  V,\n",
        "  D,\n",
        "  weights=[embedding_matrix],\n",
        "  input_length=T,\n",
        "  trainable=False,\n",
        "  name = \"Embedding_layer\"\n",
        ")\n",
        "\n",
        "lstm_1 = LSTM(d_1, return_sequences = True, name = \"LSTM_1_layer\")\n",
        "lstm_2 = LSTM(d_2, return_sequences = False, name = \"LSTM_2_layer\")\n",
        "dense_layer = Dense(K, activation = \"softmax\", name = \"Dense_layer\")\n",
        "\n",
        "\n",
        "# The input tensor\n",
        "input_tensor = Input(shape=(T,), dtype = \"int32\") # (N, T)\n",
        "\n",
        "# Apply the embeddin lyer\n",
        "#x = embedding_layer(input_tensor) # (N, T, D)\n",
        "x = embedding(input_tensor) # (N, T, D)\n",
        "\n",
        "# Apply the first LSTM layer\n",
        "y = lstm_1(x) # (N, T, d_1)\n",
        "\n",
        "# Apply the second LSTM layer\n",
        "h_T = lstm_2(y) # (N, d_2)\n",
        "\n",
        "# Apply the dense layer\n",
        "output = dense_layer(h_T) # (N, K)\n",
        "\n",
        "# Define the model\n",
        "model = Model(input_tensor, output)\n",
        "model.summary(line_length = 100)"
      ]
    },
    {
      "cell_type": "markdown",
      "metadata": {
        "id": "Nr_AoTPZwdIY"
      },
      "source": [
        "---\n",
        "<font color=green>Q13:</font>\n",
        "<br><font color='green'>\n",
        "Compile your model, selecting the **Adam** optimization algorithm instead of Stochastic Gradient Descent. For further information on the Adam optimizer, consult the documentation [here](https://arxiv.org/pdf/1412.6980.pdf). Additionally, set different evaluation metrics for the model, such as Accuracy, Precision, and Recall.\n",
        "\n",
        "</font>\n",
        "\n",
        "---"
      ]
    },
    {
      "cell_type": "markdown",
      "metadata": {
        "id": "GpuHUPB1i0ho"
      },
      "source": [
        "\n",
        "\n",
        "Adam is a modern adaptive learning rate technique, often considered as the default algorithm for many DL practitioners. It combines the idea of **momentum** and **adaptive learning rate** as shown in the following figure:\n",
        "\n"
      ]
    },
    {
      "cell_type": "markdown",
      "metadata": {
        "id": "KnZQKOI-0YEb"
      },
      "source": [
        "<center><img width=“700\" src = \"https://drive.google.com/uc?export=view&id=1IsjiRu3oMiRmky0AgZyr_sl97LqqJtOj\"></center>"
      ]
    },
    {
      "cell_type": "code",
      "execution_count": null,
      "metadata": {
        "id": "wOdJ-DkQupSt"
      },
      "outputs": [],
      "source": [
        "METRICS = [\n",
        "    #tf.keras.metrics.Accuracy(name='accuracy'),\n",
        "    \"accuracy\",\n",
        "    tf.keras.metrics.Precision(name='precision'),\n",
        "    tf.keras.metrics.Recall(name='recall'),\n",
        "]"
      ]
    },
    {
      "cell_type": "code",
      "execution_count": null,
      "metadata": {
        "id": "1KQxh-Mqivqo"
      },
      "outputs": [],
      "source": [
        "model.compile(optimizer=\"adam\",\n",
        "              loss = \"categorical_crossentropy\",\n",
        "              metrics = METRICS)"
      ]
    },
    {
      "cell_type": "markdown",
      "metadata": {
        "id": "AFuW6Cewwd2N"
      },
      "source": [
        "---\n",
        "<font color=green>Q14:</font>\n",
        "<br><font color='green'>\n",
        "Fit your model to the training data.\n",
        "* Use `EarlyStopping` from `tensorflow.keras.callbacks` to stop the training when the accuracy doesn't improve.\n",
        "\n",
        "* Use `ReduceLROnPlateau` from `tensorflow.keras.callbacks` to reduce the learning rate when the validation loss doesn't improve\n",
        "\n",
        "* Use `ModelCheckpoint` from `tensorflow.keras.callbacks` to save the best version of the model in a folder called `model`\n",
        "</font>\n",
        "\n",
        "---"
      ]
    },
    {
      "cell_type": "code",
      "source": [],
      "metadata": {
        "id": "DGkIF-COoo5Y"
      },
      "execution_count": null,
      "outputs": []
    },
    {
      "cell_type": "code",
      "execution_count": null,
      "metadata": {
        "id": "SN4cXauQ1zD8"
      },
      "outputs": [],
      "source": [
        "from tensorflow.keras.callbacks import EarlyStopping, ReduceLROnPlateau, ModelCheckpoint\n",
        "checkpoint_filepath = os.path.join(os.getcwd(), \"model\")\n",
        "\n",
        "callbacks_list = [\n",
        "                  EarlyStopping( # Interrupt the training when there is no more improvement\n",
        "                      monitor = \"val_accuracy\", # Metric to monitor\n",
        "                      patience = 10 # Number of epochs before interrupting the training if there is no improvement\n",
        "                  ),\n",
        "                  ModelCheckpoint(\n",
        "                      filepath = checkpoint_filepath, # path to the destination model file\n",
        "                      monitor = \"val_loss\", # metric to monitor\n",
        "                      save_best_only = True # Keep the best model\n",
        "                  ),\n",
        "                  ReduceLROnPlateau(\n",
        "                      monitor = \"val_loss\", # metric to monitor\n",
        "                      factor = 0.1, # Multiply the lr by factor when triggered\n",
        "                      patience = 10 # Number of epochs of non improvement before the callback is triggered\n",
        "                  )\n",
        "]"
      ]
    },
    {
      "cell_type": "code",
      "execution_count": null,
      "metadata": {
        "colab": {
          "base_uri": "https://localhost:8080/"
        },
        "id": "SpAZU_Hq4XzI",
        "outputId": "a0754a21-49e7-4412-a20b-4a64139ca48f"
      },
      "outputs": [
        {
          "name": "stdout",
          "output_type": "stream",
          "text": [
            "Epoch 1/200\n",
            "6/6 [==============================] - 34s 4s/step - loss: 1.5664 - accuracy: 0.3139 - precision: 0.0000e+00 - recall: 0.0000e+00 - val_loss: 1.5039 - val_accuracy: 0.4691 - val_precision: 0.0000e+00 - val_recall: 0.0000e+00 - lr: 0.0010\n",
            "Epoch 2/200\n",
            "6/6 [==============================] - 14s 3s/step - loss: 1.4465 - accuracy: 0.5344 - precision: 0.0000e+00 - recall: 0.0000e+00 - val_loss: 1.3514 - val_accuracy: 0.6657 - val_precision: 0.0000e+00 - val_recall: 0.0000e+00 - lr: 0.0010\n",
            "Epoch 3/200\n",
            "6/6 [==============================] - 16s 3s/step - loss: 1.2584 - accuracy: 0.7086 - precision: 0.9756 - recall: 0.0281 - val_loss: 1.1189 - val_accuracy: 0.7781 - val_precision: 0.9149 - val_recall: 0.1208 - lr: 0.0010\n",
            "Epoch 4/200\n",
            "6/6 [==============================] - 17s 3s/step - loss: 1.0048 - accuracy: 0.7907 - precision: 0.9380 - recall: 0.2338 - val_loss: 0.8645 - val_accuracy: 0.8230 - val_precision: 0.9533 - val_recall: 0.4017 - lr: 0.0010\n",
            "Epoch 5/200\n",
            "6/6 [==============================] - 15s 3s/step - loss: 0.7521 - accuracy: 0.8624 - precision: 0.9392 - recall: 0.5204 - val_loss: 0.6383 - val_accuracy: 0.8652 - val_precision: 0.9453 - val_recall: 0.7275 - lr: 0.0010\n",
            "Epoch 6/200\n",
            "6/6 [==============================] - 18s 4s/step - loss: 0.5406 - accuracy: 0.8996 - precision: 0.9401 - recall: 0.8160 - val_loss: 0.4668 - val_accuracy: 0.8961 - val_precision: 0.9172 - val_recall: 0.8708 - lr: 0.0010\n",
            "Epoch 7/200\n",
            "6/6 [==============================] - 12s 2s/step - loss: 0.3888 - accuracy: 0.9192 - precision: 0.9406 - recall: 0.9003 - val_loss: 0.3591 - val_accuracy: 0.9185 - val_precision: 0.9286 - val_recall: 0.9129 - lr: 0.0010\n",
            "Epoch 8/200\n",
            "6/6 [==============================] - 18s 3s/step - loss: 0.2856 - accuracy: 0.9445 - precision: 0.9506 - recall: 0.9326 - val_loss: 0.3319 - val_accuracy: 0.9213 - val_precision: 0.9261 - val_recall: 0.9157 - lr: 0.0010\n",
            "Epoch 9/200\n",
            "6/6 [==============================] - 12s 2s/step - loss: 0.2318 - accuracy: 0.9537 - precision: 0.9574 - recall: 0.9473 - val_loss: 0.3003 - val_accuracy: 0.9354 - val_precision: 0.9352 - val_recall: 0.9326 - lr: 0.0010\n",
            "Epoch 10/200\n",
            "6/6 [==============================] - 17s 3s/step - loss: 0.1909 - accuracy: 0.9586 - precision: 0.9610 - recall: 0.9529 - val_loss: 0.2648 - val_accuracy: 0.9382 - val_precision: 0.9380 - val_recall: 0.9354 - lr: 0.0010\n",
            "Epoch 11/200\n",
            "6/6 [==============================] - 4s 701ms/step - loss: 0.1878 - accuracy: 0.9600 - precision: 0.9611 - recall: 0.9551 - val_loss: 0.2765 - val_accuracy: 0.9270 - val_precision: 0.9268 - val_recall: 0.9242 - lr: 0.0010\n",
            "Epoch 12/200\n",
            "6/6 [==============================] - 16s 3s/step - loss: 0.1828 - accuracy: 0.9572 - precision: 0.9604 - recall: 0.9544 - val_loss: 0.2466 - val_accuracy: 0.9354 - val_precision: 0.9377 - val_recall: 0.9298 - lr: 0.0010\n",
            "Epoch 13/200\n",
            "6/6 [==============================] - 6s 909ms/step - loss: 0.1695 - accuracy: 0.9579 - precision: 0.9591 - recall: 0.9558 - val_loss: 0.2749 - val_accuracy: 0.9242 - val_precision: 0.9294 - val_recall: 0.9242 - lr: 0.0010\n",
            "Epoch 14/200\n",
            "6/6 [==============================] - 4s 708ms/step - loss: 0.1623 - accuracy: 0.9621 - precision: 0.9654 - recall: 0.9607 - val_loss: 0.3188 - val_accuracy: 0.9157 - val_precision: 0.9207 - val_recall: 0.9129 - lr: 0.0010\n",
            "Epoch 15/200\n",
            "6/6 [==============================] - 5s 926ms/step - loss: 0.1733 - accuracy: 0.9565 - precision: 0.9585 - recall: 0.9558 - val_loss: 0.3939 - val_accuracy: 0.9129 - val_precision: 0.9181 - val_recall: 0.9129 - lr: 0.0010\n",
            "Epoch 16/200\n",
            "6/6 [==============================] - 8s 1s/step - loss: 0.1683 - accuracy: 0.9544 - precision: 0.9610 - recall: 0.9508 - val_loss: 0.3406 - val_accuracy: 0.9185 - val_precision: 0.9211 - val_recall: 0.9185 - lr: 0.0010\n",
            "Epoch 17/200\n",
            "6/6 [==============================] - 9s 2s/step - loss: 0.1431 - accuracy: 0.9621 - precision: 0.9654 - recall: 0.9600 - val_loss: 0.3113 - val_accuracy: 0.9213 - val_precision: 0.9292 - val_recall: 0.9213 - lr: 0.0010\n",
            "Epoch 18/200\n",
            "6/6 [==============================] - 4s 710ms/step - loss: 0.1187 - accuracy: 0.9691 - precision: 0.9711 - recall: 0.9684 - val_loss: 0.2804 - val_accuracy: 0.9242 - val_precision: 0.9294 - val_recall: 0.9242 - lr: 0.0010\n",
            "Epoch 19/200\n",
            "6/6 [==============================] - 4s 739ms/step - loss: 0.1021 - accuracy: 0.9768 - precision: 0.9781 - recall: 0.9719 - val_loss: 0.2663 - val_accuracy: 0.9326 - val_precision: 0.9350 - val_recall: 0.9298 - lr: 0.0010\n",
            "Epoch 20/200\n",
            "6/6 [==============================] - 7s 1s/step - loss: 0.0912 - accuracy: 0.9803 - precision: 0.9810 - recall: 0.9775 - val_loss: 0.2740 - val_accuracy: 0.9382 - val_precision: 0.9403 - val_recall: 0.9298 - lr: 0.0010\n"
          ]
        }
      ],
      "source": [
        "history = model.fit(train_data,\n",
        "                    train_labels,\n",
        "                    epochs = 200,\n",
        "                    batch_size=256,\n",
        "                    callbacks = callbacks_list,\n",
        "                    validation_split=.2)"
      ]
    },
    {
      "cell_type": "markdown",
      "metadata": {
        "id": "6wcCrQY7wejP"
      },
      "source": [
        "---\n",
        "<font color=green>Q15:</font>\n",
        "<br><font color='green'>\n",
        "Test your model on the test data\n",
        "</font>\n",
        "\n",
        "---"
      ]
    },
    {
      "cell_type": "code",
      "execution_count": null,
      "metadata": {
        "colab": {
          "base_uri": "https://localhost:8080/"
        },
        "id": "xza2c16O8dMl",
        "outputId": "b22ef833-15a8-41a7-db4d-7236c02b8b56"
      },
      "outputs": [
        {
          "name": "stdout",
          "output_type": "stream",
          "text": [
            "14/14 [==============================] - 1s 57ms/step - loss: 0.1464 - accuracy: 0.9663 - precision: 0.9684 - recall: 0.9640\n"
          ]
        },
        {
          "data": {
            "text/plain": [
              "[0.1463908553123474, 0.966292142868042, 0.968397319316864, 0.9640449285507202]"
            ]
          },
          "execution_count": 26,
          "metadata": {},
          "output_type": "execute_result"
        }
      ],
      "source": [
        "# Evaluate the model\n",
        "model.evaluate(test_data, test_labels)"
      ]
    },
    {
      "cell_type": "markdown",
      "metadata": {
        "id": "iF0p3wG3wfcq"
      },
      "source": [
        "---\n",
        "<font color=green>Q16:</font>\n",
        "<br><font color='green'>\n",
        "Plot the training and validation loss\n",
        "</font>\n",
        "\n",
        "---"
      ]
    },
    {
      "cell_type": "code",
      "execution_count": null,
      "metadata": {
        "colab": {
          "base_uri": "https://localhost:8080/",
          "height": 641
        },
        "id": "7yaIvxYbd36U",
        "outputId": "c240cd65-7642-4756-80c8-e6ac598b0eeb"
      },
      "outputs": [
        {
          "data": {
            "image/png": "[encoded data removed]",
            "text/plain": [
              "<Figure size 1000x700 with 1 Axes>"
            ]
          },
          "metadata": {},
          "output_type": "display_data"
        }
      ],
      "source": [
        "figure = plt.figure(figsize = (10, 7))\n",
        "plt.plot(history.history[\"loss\"], label = \"Train_loss\")\n",
        "plt.plot(history.history[\"val_loss\"], label = \"Validation_loss\")\n",
        "plt.xlabel(\"epochs\")\n",
        "plt.ylabel(\"Loss\")\n",
        "plt.title(\"Train vs Validation Loss\")\n",
        "plt.legend()\n",
        "plt.show()"
      ]
    },
    {
      "cell_type": "markdown",
      "metadata": {
        "id": "1PIinMztwkPA"
      },
      "source": [
        "---\n",
        "<font color=green>Q17:</font>\n",
        "<br><font color='green'>\n",
        "Plot the training and validation accuracy\n",
        "</font>\n",
        "\n",
        "---"
      ]
    },
    {
      "cell_type": "code",
      "execution_count": null,
      "metadata": {
        "colab": {
          "base_uri": "https://localhost:8080/",
          "height": 641
        },
        "id": "6i-Czh21d33w",
        "outputId": "e08ac633-ea99-48f2-e15b-3e061626b5a4"
      },
      "outputs": [
        {
          "data": {
            "image/png": "[encoded data removed]",
            "text/plain": [
              "<Figure size 1000x700 with 1 Axes>"
            ]
          },
          "metadata": {},
          "output_type": "display_data"
        }
      ],
      "source": [
        "figure = plt.figure(figsize = (10, 7))\n",
        "plt.plot(history.history[\"accuracy\"], label = \"Train_accuracy\")\n",
        "plt.plot(history.history[\"val_accuracy\"], label = \"Validation_accuracy\")\n",
        "plt.xlabel(\"epochs\")\n",
        "plt.ylabel(\"Accuracy\")\n",
        "plt.title(\"Train vs Validation Accurcy\")\n",
        "plt.legend()\n",
        "plt.show()"
      ]
    },
    {
      "cell_type": "markdown",
      "metadata": {
        "id": "DGaemsu4wky4"
      },
      "source": [
        "---\n",
        "<font color=green>Q18:</font>\n",
        "<br><font color='green'>\n",
        "Plot the training and validation precision\n",
        "</font>\n",
        "\n",
        "---"
      ]
    },
    {
      "cell_type": "code",
      "execution_count": null,
      "metadata": {
        "colab": {
          "base_uri": "https://localhost:8080/",
          "height": 641
        },
        "id": "SZeoWZzDyFh2",
        "outputId": "bfb90052-96df-4dd1-e00a-1fced8dfe5b9"
      },
      "outputs": [
        {
          "data": {
            "image/png": "[encoded data removed]",
            "text/plain": [
              "<Figure size 1000x700 with 1 Axes>"
            ]
          },
          "metadata": {},
          "output_type": "display_data"
        }
      ],
      "source": [
        "figure = plt.figure(figsize = (10, 7))\n",
        "plt.plot(history.history[\"precision\"], label = \"Train_precision\")\n",
        "plt.plot(history.history[\"val_precision\"], label = \"Validation_precision\")\n",
        "plt.xlabel(\"epochs\")\n",
        "plt.ylabel(\"Precision\")\n",
        "plt.title(\"Train vs Validation Precision\")\n",
        "plt.legend()\n",
        "plt.show()"
      ]
    },
    {
      "cell_type": "markdown",
      "metadata": {
        "id": "KLN4_OPEwmsw"
      },
      "source": [
        "---\n",
        "<font color=green>Q19:</font>\n",
        "<br><font color='green'>\n",
        "Plot the training and validation recall\n",
        "</font>\n",
        "\n",
        "---"
      ]
    },
    {
      "cell_type": "code",
      "execution_count": null,
      "metadata": {
        "colab": {
          "base_uri": "https://localhost:8080/",
          "height": 641
        },
        "id": "waO_Xuk1yYeJ",
        "outputId": "4fee82ee-5634-4b5c-b315-1bd5a883c66a"
      },
      "outputs": [
        {
          "data": {
            "image/png": "[encoded data removed]",
            "text/plain": [
              "<Figure size 1000x700 with 1 Axes>"
            ]
          },
          "metadata": {},
          "output_type": "display_data"
        }
      ],
      "source": [
        "figure = plt.figure(figsize = (10, 7))\n",
        "plt.plot(history.history[\"recall\"], label = \"Train_recall\")\n",
        "plt.plot(history.history[\"val_recall\"], label = \"Validation_recall\")\n",
        "plt.xlabel(\"epochs\")\n",
        "plt.ylabel(\"Recall\")\n",
        "plt.title(\"Train vs Validation Recall\")\n",
        "plt.legend()\n",
        "plt.show()"
      ]
    },
    {
      "cell_type": "markdown",
      "metadata": {
        "id": "aWZZOZywzQVk"
      },
      "source": [
        "---\n",
        "<font color=green>Q20:</font>\n",
        "<br><font color='green'>\n",
        "Plot the confusion matrix using the function below\n",
        "</font>\n",
        "\n",
        "---"
      ]
    },
    {
      "cell_type": "code",
      "execution_count": null,
      "metadata": {
        "id": "q9L7npbnzQd9"
      },
      "outputs": [],
      "source": [
        "# Import Modules\n",
        "from sklearn.metrics import confusion_matrix\n",
        "import seaborn as sns\n",
        "\n",
        "\n",
        "# Functin to plot the confusion matrix\n",
        "def plot_confusion_matrix(y_test, y_hat):\n",
        "  fig = plt.figure(figsize=(10, 8))\n",
        "  g = sns.heatmap(confusion_matrix(y_test, y_hat),\n",
        "              annot=True,\n",
        "              fmt=\"0.0f\")\n",
        "  g.set_xlabel(\"Predicted\")\n",
        "  g.set_ylabel(\"Actual\")\n",
        "  g.set_title(\"Confusion Matrix on the test set\")\n",
        "  plt.show()"
      ]
    },
    {
      "cell_type": "code",
      "execution_count": null,
      "metadata": {
        "colab": {
          "base_uri": "https://localhost:8080/",
          "height": 735
        },
        "id": "-yuJoY9VznfI",
        "outputId": "67935a42-f1b3-4593-d054-e81d1c46fc1b"
      },
      "outputs": [
        {
          "name": "stdout",
          "output_type": "stream",
          "text": [
            "14/14 [==============================] - 5s 120ms/step\n"
          ]
        },
        {
          "data": {
            "image/png": "[encoded data removed]",
            "text/plain": [
              "<Figure size 1000x800 with 2 Axes>"
            ]
          },
          "metadata": {},
          "output_type": "display_data"
        }
      ],
      "source": [
        "# Get the prediction in the (N, K) shape\n",
        "prediction = model.predict(test_data)\n",
        "\n",
        "# Transform it into the shape (N,)\n",
        "y_pred = np.argmax(prediction, axis=1)\n",
        "y_true = np.argmax(test_labels, axis=1)\n",
        "\n",
        "# Plot the confusion matrix\n",
        "plot_confusion_matrix(y_true, y_pred)\n"
      ]
    },
    {
      "cell_type": "markdown",
      "metadata": {
        "id": "93er6gDBMdyt"
      },
      "source": [
        "## 3.2 Training the embedding matrix"
      ]
    },
    {
      "cell_type": "markdown",
      "metadata": {
        "id": "ZhYLoV87woFq"
      },
      "source": [
        "---\n",
        "<font color=green>Q20:</font>\n",
        "<br><font color='green'>\n",
        "Create the following model :\n",
        "</font>\n",
        "\n",
        "---"
      ]
    },
    {
      "cell_type": "markdown",
      "metadata": {
        "id": "BznOq1_K0aPm"
      },
      "source": [
        "<center><img width=“700\" src = \"https://drive.google.com/uc?export=view&id=1FXc2jWEuuodqtu68Qeac33_V6J-mE__n\"></center>"
      ]
    },
    {
      "cell_type": "code",
      "execution_count": null,
      "metadata": {
        "colab": {
          "base_uri": "https://localhost:8080/"
        },
        "id": "amGqxySpd31E",
        "outputId": "57452371-558a-45ca-e2b7-88a07af63f93"
      },
      "outputs": [
        {
          "name": "stdout",
          "output_type": "stream",
          "text": [
            "Model: \"sequential\"\n",
            "______________________________________________________________________________________________________________________________________________________\n",
            " Layer (type)                                                      Output Shape                                                Param #                \n",
            "======================================================================================================================================================\n",
            " embedding (Embedding)                                             (None, 300, 200)                                            2000000                \n",
            "                                                                                                                                                      \n",
            " bidirectional (Bidirectional)                                     (None, 64)                                                  59648                  \n",
            "                                                                                                                                                      \n",
            " dense (Dense)                                                     (None, 5)                                                   325                    \n",
            "                                                                                                                                                      \n",
            "======================================================================================================================================================\n",
            "Total params: 2059973 (7.86 MB)\n",
            "Trainable params: 2059973 (7.86 MB)\n",
            "Non-trainable params: 0 (0.00 Byte)\n",
            "______________________________________________________________________________________________________________________________________________________\n"
          ]
        }
      ],
      "source": [
        "from tensorflow.keras.models import Sequential\n",
        "from tensorflow.keras.layers import Embedding, Bidirectional, LSTM, Dense\n",
        "\n",
        "# Set hyperparameters\n",
        "d_1 = 32 # output dimension of the first LSTM layer\n",
        "d_2 = 32 # output dimension of the second LSTM layer\n",
        "K = 5 # Output dimension of the last layer\n",
        "\n",
        "\n",
        "model = Sequential()\n",
        "model.add(Embedding(V, D, input_length=T))\n",
        "model.add(Bidirectional(LSTM(d_1, return_sequences = False)))\n",
        "model.add(Dense(K, activation = \"softmax\"))\n",
        "model.summary(line_length=150)"
      ]
    },
    {
      "cell_type": "markdown",
      "metadata": {
        "id": "N4gzLre6wpEB"
      },
      "source": [
        "---\n",
        "<font color=green>Q21:</font>\n",
        "<br><font color='green'>\n",
        "Fit your new model to the training data. Plot the tranining and validation loss,accuracy, precision and recall. Then, evaluate your model on the test data\n",
        "</font>\n",
        "\n",
        "---"
      ]
    },
    {
      "cell_type": "code",
      "execution_count": null,
      "metadata": {
        "colab": {
          "background_save": true,
          "base_uri": "https://localhost:8080/"
        },
        "id": "4oj7xMPZ1emE",
        "outputId": "ea306167-0951-4e6a-f17e-2cd43e1fbc27"
      },
      "outputs": [
        {
          "name": "stdout",
          "output_type": "stream",
          "text": [
            "Epoch 1/200\n",
            "6/6 [==============================] - 25s 4s/step - loss: 1.5971 - accuracy: 0.2619 - precision: 0.9684 - recall: 0.2295 - val_loss: 1.5738 - val_accuracy: 0.2612 - val_precision: 0.0000e+00 - val_recall: 0.0000e+00 - lr: 0.0010\n",
            "Epoch 2/200\n",
            "6/6 [==============================] - 11s 2s/step - loss: 1.5574 - accuracy: 0.2992 - precision: 0.0000e+00 - recall: 0.0000e+00 - val_loss: 1.5523 - val_accuracy: 0.2640 - val_precision: 0.0000e+00 - val_recall: 0.0000e+00 - lr: 0.0010\n",
            "Epoch 3/200\n",
            "6/6 [==============================] - 12s 2s/step - loss: 1.5085 - accuracy: 0.4228 - precision: 0.0000e+00 - recall: 0.0000e+00 - val_loss: 1.5106 - val_accuracy: 0.4831 - val_precision: 0.0000e+00 - val_recall: 0.0000e+00 - lr: 0.0010\n",
            "Epoch 4/200\n",
            "6/6 [==============================] - 13s 2s/step - loss: 1.4159 - accuracy: 0.5772 - precision: 0.0000e+00 - recall: 0.0000e+00 - val_loss: 1.4210 - val_accuracy: 0.5281 - val_precision: 0.0000e+00 - val_recall: 0.0000e+00 - lr: 0.0010\n",
            "Epoch 5/200\n",
            "6/6 [==============================] - 9s 2s/step - loss: 1.2243 - accuracy: 0.7907 - precision: 0.0000e+00 - recall: 0.0000e+00 - val_loss: 1.1880 - val_accuracy: 0.6910 - val_precision: 0.0000e+00 - val_recall: 0.0000e+00 - lr: 0.0010\n",
            "Epoch 6/200\n",
            "6/6 [==============================] - 16s 3s/step - loss: 0.9814 - accuracy: 0.8518 - precision: 1.0000 - recall: 0.0597 - val_loss: 1.0005 - val_accuracy: 0.7360 - val_precision: 1.0000 - val_recall: 0.1208 - lr: 0.0010\n",
            "Epoch 7/200\n",
            "6/6 [==============================] - 8s 1s/step - loss: 0.7949 - accuracy: 0.9129 - precision: 1.0000 - recall: 0.3806 - val_loss: 0.8776 - val_accuracy: 0.7360 - val_precision: 0.9638 - val_recall: 0.3736 - lr: 0.0010\n",
            "Epoch 8/200\n",
            "6/6 [==============================] - 15s 3s/step - loss: 0.6774 - accuracy: 0.9473 - precision: 0.9971 - recall: 0.4817 - val_loss: 0.7773 - val_accuracy: 0.8202 - val_precision: 0.9441 - val_recall: 0.4270 - lr: 0.0010\n",
            "Epoch 9/200\n",
            "6/6 [==============================] - 11s 2s/step - loss: 0.5722 - accuracy: 0.9698 - precision: 0.9926 - recall: 0.6636 - val_loss: 0.6873 - val_accuracy: 0.8427 - val_precision: 0.9318 - val_recall: 0.5758 - lr: 0.0010\n",
            "Epoch 10/200\n",
            "6/6 [==============================] - 12s 2s/step - loss: 0.4748 - accuracy: 0.9775 - precision: 0.9925 - recall: 0.8413 - val_loss: 0.6167 - val_accuracy: 0.8596 - val_precision: 0.9265 - val_recall: 0.7079 - lr: 0.0010\n",
            "Epoch 11/200\n",
            "6/6 [==============================] - 13s 2s/step - loss: 0.3882 - accuracy: 0.9881 - precision: 0.9948 - recall: 0.9417 - val_loss: 0.5393 - val_accuracy: 0.8989 - val_precision: 0.9241 - val_recall: 0.7865 - lr: 0.0010\n",
            "Epoch 12/200\n",
            "6/6 [==============================] - 8s 1s/step - loss: 0.3118 - accuracy: 0.9902 - precision: 0.9950 - recall: 0.9754 - val_loss: 0.4715 - val_accuracy: 0.9073 - val_precision: 0.9489 - val_recall: 0.8343 - lr: 0.0010\n",
            "Epoch 13/200\n",
            "6/6 [==============================] - 17s 3s/step - loss: 0.2473 - accuracy: 0.9972 - precision: 1.0000 - recall: 0.9902 - val_loss: 0.4343 - val_accuracy: 0.9129 - val_precision: 0.9366 - val_recall: 0.8708 - lr: 0.0010\n",
            "Epoch 14/200\n",
            "6/6 [==============================] - 8s 1s/step - loss: 0.1982 - accuracy: 0.9937 - precision: 0.9944 - recall: 0.9923 - val_loss: 0.3805 - val_accuracy: 0.9298 - val_precision: 0.9410 - val_recall: 0.8961 - lr: 0.0010\n",
            "Epoch 15/200\n",
            "6/6 [==============================] - 13s 2s/step - loss: 0.1559 - accuracy: 0.9958 - precision: 0.9958 - recall: 0.9958 - val_loss: 0.3425 - val_accuracy: 0.9213 - val_precision: 0.9417 - val_recall: 0.9073 - lr: 0.0010\n",
            "Epoch 16/200\n",
            "6/6 [==============================] - 12s 2s/step - loss: 0.1153 - accuracy: 0.9972 - precision: 0.9972 - recall: 0.9965 - val_loss: 0.3309 - val_accuracy: 0.9354 - val_precision: 0.9459 - val_recall: 0.9326 - lr: 0.0010\n",
            "Epoch 17/200\n",
            "6/6 [==============================] - 10s 2s/step - loss: 0.1042 - accuracy: 0.9944 - precision: 0.9944 - recall: 0.9944 - val_loss: 0.2928 - val_accuracy: 0.9326 - val_precision: 0.9379 - val_recall: 0.9326 - lr: 0.0010\n",
            "Epoch 18/200\n",
            "6/6 [==============================] - 16s 3s/step - loss: 0.0871 - accuracy: 0.9951 - precision: 0.9951 - recall: 0.9951 - val_loss: 0.2803 - val_accuracy: 0.9298 - val_precision: 0.9429 - val_recall: 0.9270 - lr: 0.0010\n",
            "Epoch 19/200\n",
            "6/6 [==============================] - 9s 1s/step - loss: 0.0724 - accuracy: 0.9965 - precision: 0.9965 - recall: 0.9965 - val_loss: 0.2676 - val_accuracy: 0.9326 - val_precision: 0.9432 - val_recall: 0.9326 - lr: 0.0010\n",
            "Epoch 20/200\n",
            "6/6 [==============================] - 16s 3s/step - loss: 0.0609 - accuracy: 0.9972 - precision: 0.9972 - recall: 0.9972 - val_loss: 0.3041 - val_accuracy: 0.9213 - val_precision: 0.9288 - val_recall: 0.9157 - lr: 0.0010\n",
            "Epoch 21/200\n",
            "6/6 [==============================] - 18s 3s/step - loss: 0.0546 - accuracy: 0.9965 - precision: 0.9965 - recall: 0.9965 - val_loss: 0.2981 - val_accuracy: 0.9242 - val_precision: 0.9288 - val_recall: 0.9157 - lr: 0.0010\n",
            "Epoch 22/200\n",
            "6/6 [==============================] - 17s 3s/step - loss: 0.0471 - accuracy: 0.9979 - precision: 0.9979 - recall: 0.9979 - val_loss: 0.2858 - val_accuracy: 0.9185 - val_precision: 0.9286 - val_recall: 0.9129 - lr: 0.0010\n",
            "Epoch 23/200\n",
            "6/6 [==============================] - 9s 1s/step - loss: 0.0453 - accuracy: 0.9965 - precision: 0.9965 - recall: 0.9965 - val_loss: 0.2860 - val_accuracy: 0.9270 - val_precision: 0.9345 - val_recall: 0.9213 - lr: 0.0010\n",
            "Epoch 24/200\n",
            "6/6 [==============================] - 12s 2s/step - loss: 0.0400 - accuracy: 0.9979 - precision: 0.9979 - recall: 0.9979 - val_loss: 0.2712 - val_accuracy: 0.9326 - val_precision: 0.9377 - val_recall: 0.9298 - lr: 0.0010\n",
            "Epoch 25/200\n",
            "6/6 [==============================] - 13s 2s/step - loss: 0.0349 - accuracy: 0.9986 - precision: 0.9986 - recall: 0.9986 - val_loss: 0.2911 - val_accuracy: 0.9270 - val_precision: 0.9345 - val_recall: 0.9213 - lr: 0.0010\n",
            "Epoch 26/200\n",
            "6/6 [==============================] - 9s 2s/step - loss: 0.0356 - accuracy: 0.9972 - precision: 0.9972 - recall: 0.9972 - val_loss: 0.2948 - val_accuracy: 0.9270 - val_precision: 0.9345 - val_recall: 0.9213 - lr: 0.0010\n"
          ]
        }
      ],
      "source": [
        "model.compile(optimizer=\"adam\",\n",
        "              loss = \"categorical_crossentropy\",\n",
        "              metrics = METRICS)\n",
        "\n",
        "history = model.fit(train_data,\n",
        "                    train_labels,\n",
        "                    epochs = 200,\n",
        "                    batch_size=256,\n",
        "                    callbacks = callbacks_list,\n",
        "                    validation_split=.2)"
      ]
    },
    {
      "cell_type": "code",
      "execution_count": null,
      "metadata": {
        "colab": {
          "base_uri": "https://localhost:8080/"
        },
        "id": "cdKj22jKd3vU",
        "outputId": "4d1c5a85-51bc-486b-8f07-ec122eac4967"
      },
      "outputs": [
        {
          "name": "stdout",
          "output_type": "stream",
          "text": [
            "14/14 [==============================] - 1s 64ms/step - loss: 0.2122 - accuracy: 0.9506 - precision: 0.9548 - recall: 0.9483\n"
          ]
        },
        {
          "data": {
            "text/plain": [
              "[0.2121778279542923,\n",
              " 0.9505618214607239,\n",
              " 0.9547511339187622,\n",
              " 0.9483146071434021]"
            ]
          },
          "execution_count": 45,
          "metadata": {},
          "output_type": "execute_result"
        }
      ],
      "source": [
        "# Evaluate the model\n",
        "model.evaluate(test_data, test_labels)"
      ]
    },
    {
      "cell_type": "code",
      "execution_count": null,
      "metadata": {
        "colab": {
          "base_uri": "https://localhost:8080/",
          "height": 458
        },
        "id": "tDsPJJFhd3qK",
        "outputId": "38aca5e5-1632-4b77-9968-83e2fc939776"
      },
      "outputs": [
        {
          "data": {
            "image/png": "[encoded data removed]",
            "text/plain": [
              "<Figure size 720x504 with 1 Axes>"
            ]
          },
          "metadata": {},
          "output_type": "display_data"
        }
      ],
      "source": []
    },
    {
      "cell_type": "code",
      "execution_count": null,
      "metadata": {
        "colab": {
          "base_uri": "https://localhost:8080/",
          "height": 458
        },
        "id": "NZCTNmy7y3Mi",
        "outputId": "d2f7734f-4b99-4346-9a18-9d7deb9f26d4"
      },
      "outputs": [
        {
          "data": {
            "image/png": "[encoded data removed]",
            "text/plain": [
              "<Figure size 720x504 with 1 Axes>"
            ]
          },
          "metadata": {},
          "output_type": "display_data"
        }
      ],
      "source": []
    },
    {
      "cell_type": "code",
      "execution_count": null,
      "metadata": {
        "colab": {
          "base_uri": "https://localhost:8080/",
          "height": 458
        },
        "id": "4lfeBU6Zy-tP",
        "outputId": "54aa70e5-a5d6-4ac4-bcf3-9be0cb10ac4b"
      },
      "outputs": [
        {
          "data": {
            "image/png": "[encoded data removed]",
            "text/plain": [
              "<Figure size 720x504 with 1 Axes>"
            ]
          },
          "metadata": {},
          "output_type": "display_data"
        }
      ],
      "source": []
    },
    {
      "cell_type": "code",
      "execution_count": null,
      "metadata": {
        "colab": {
          "base_uri": "https://localhost:8080/",
          "height": 458
        },
        "id": "VR5PrXH5zB5-",
        "outputId": "5b45c9c6-79b8-4511-9aa4-97498bbecbd8"
      },
      "outputs": [
        {
          "data": {
            "image/png": "[encoded data removed]",
            "text/plain": [
              "<Figure size 720x504 with 1 Axes>"
            ]
          },
          "metadata": {},
          "output_type": "display_data"
        }
      ],
      "source": []
    },
    {
      "cell_type": "markdown",
      "metadata": {
        "id": "RbnihzVYz7Q-"
      },
      "source": [
        "---\n",
        "<font color=green>Q21:</font>\n",
        "<br><font color='green'>\n",
        "Plot the confusion matrix\n",
        "</font>\n",
        "\n",
        "---"
      ]
    },
    {
      "cell_type": "code",
      "execution_count": null,
      "metadata": {
        "colab": {
          "base_uri": "https://localhost:8080/",
          "height": 513
        },
        "id": "nv2Q7-uH0Bqf",
        "outputId": "6005563e-7418-422a-ec2f-e6c111eaf0fc"
      },
      "outputs": [
        {
          "data": {
            "image/png": "[encoded data removed]",
            "text/plain": [
              "<Figure size 720x576 with 2 Axes>"
            ]
          },
          "metadata": {},
          "output_type": "display_data"
        }
      ],
      "source": [
        "# Get the prediction in the (N, K) shape\n"
      ]
    },
    {
      "cell_type": "markdown",
      "metadata": {
        "id": "1xy8N9ZZUW44"
      },
      "source": [
        "# Wrap-up"
      ]
    },
    {
      "cell_type": "markdown",
      "metadata": {
        "id": "Q640L1as0cFL"
      },
      "source": [
        "<center><img width=“700\" src = \"https://drive.google.com/uc?export=view&id=1UZuzjojifkjy8BaLXejXYwGCjzL4DJua\"></center>"
      ]
    },
    {
      "cell_type": "markdown",
      "metadata": {
        "id": "QmLB8jSfZr99"
      },
      "source": [
        "## To go further..."
      ]
    },
    {
      "cell_type": "markdown",
      "metadata": {
        "id": "yBX04kDZgE6W"
      },
      "source": [
        "As an exercise:\n",
        "\n",
        "* Change the hyperparameters and add some regularization to have the same performance on the training dataset and the test dataset.\n",
        "\n",
        "* Test different architectures on another dataset, stored in the folder \"data\": `news_headlines.csv`. This dataset contains the sentiments for financial news headlines from the perspective of a retail investor. Further details about the dataset can be found in: [Malo, P., Sinha, A., Takala, P., Korhonen, P. and Wallenius, J. (2014): “Good debt or bad debt: Detecting semantic orientations in economic texts.](https://arxiv.org/pdf/1307.5336.pdf)"
      ]
    },
    {
      "cell_type": "markdown",
      "metadata": {
        "id": "Bl8L25-DhFsv"
      },
      "source": [
        "## Introducing the next lecture"
      ]
    },
    {
      "cell_type": "markdown",
      "metadata": {
        "id": "8DkZy6pNbgNB"
      },
      "source": [
        "LSTM layers can be used to tackle a wide range of problems:"
      ]
    },
    {
      "cell_type": "markdown",
      "metadata": {
        "id": "wlHc9ee-0wsd"
      },
      "source": [
        "<center><img width=“700\" src = \"https://drive.google.com/uc?export=view&id=1lB5wkfX66shxrymtQNfszXdKO8qjSD6h\"></center>"
      ]
    },
    {
      "cell_type": "markdown",
      "metadata": {
        "id": "xuso1F7qb-pY"
      },
      "source": [
        "For Many to many problems when the length of the input sequence is different from the length of the output sequence, we use the following architecture decribed in the following paper: [Sequence to Sequence Learning\n",
        "with Neural Networks](https://papers.nips.cc/paper/5346-sequence-to-sequence-learning-with-neural-networks.pdf):"
      ]
    },
    {
      "cell_type": "markdown",
      "metadata": {
        "id": "FOX1HmbB0wDT"
      },
      "source": [
        "<center><img width=“700\" src = \"https://drive.google.com/uc?export=view&id=1SASHthGKMVBvlU0CcXX5Rfg0WYny4fS2\"></center>"
      ]
    },
    {
      "cell_type": "markdown",
      "metadata": {
        "id": "vA5Ev9x9cen6"
      },
      "source": [
        "As seq2seq architecture don't handle very well long sentences, we use **Attention**, which aims at looking on a context in the input and weight it correctly to generate the output.\n",
        "\n",
        "A good reference for it : [Attention Is All You Need](https://arxiv.org/pdf/1706.03762v5.pdf)\n",
        "\n",
        "An example of application in Speech Recognition:"
      ]
    },
    {
      "cell_type": "markdown",
      "metadata": {
        "id": "HHQbeLgh0vOT"
      },
      "source": [
        "<center><img width=“700\" src = \"https://drive.google.com/uc?export=view&id=1QkTzmlvA2OVVwnM0x91bVDd7CeVH7PlL\"></center>:"
      ]
    }
  ],
  "metadata": {
    "colab": {
      "provenance": [],
      "include_colab_link": true
    },
    "kernelspec": {
      "display_name": "Python 3",
      "name": "python3"
    }
  },
  "nbformat": 4,
  "nbformat_minor": 0
}